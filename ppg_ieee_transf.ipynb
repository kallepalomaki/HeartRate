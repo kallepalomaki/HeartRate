{
 "cells": [
  {
   "cell_type": "code",
   "execution_count": 1,
   "id": "35b48d57-c581-45cc-b9e7-8398cb783d6d",
   "metadata": {},
   "outputs": [],
   "source": [
    "import torch\n",
    "import torch.nn as nn\n",
    "import torch.optim as optim\n",
    "from torch.utils.data import DataLoader, TensorDataset\n",
    "import numpy as np\n",
    "import matplotlib.pyplot as plt\n",
    "\n"
   ]
  },
  {
   "cell_type": "code",
   "execution_count": 2,
   "id": "6be628a8-d4e4-4680-81cf-887d35bd6b81",
   "metadata": {},
   "outputs": [],
   "source": [
    "from sktime.datasets import load_from_tsfile_to_dataframe\n",
    "from torch.utils.data import Dataset, DataLoader\n",
    "\n",
    "# Load training and test data\n",
    "X_train, y_train = load_from_tsfile_to_dataframe(\"/Users/kpalomak/data/IEEEPPG_TRAIN.ts\")\n",
    "X_test, y_test = load_from_tsfile_to_dataframe(\"/Users/kpalomak/data/IEEEPPG_TEST.ts\")\n",
    "y_train=np.array(y_train,'float')\n",
    "y_test=np.array(y_test,'float')\n",
    "\n"
   ]
  },
  {
   "cell_type": "code",
   "execution_count": 3,
   "id": "de4c58ec-1761-46b2-ad5c-4a81518e8c52",
   "metadata": {},
   "outputs": [],
   "source": [
    "def df_to_np(X):\n",
    "    return np.stack([\n",
    "        np.stack(row.values)  # stack channels\n",
    "        for _, row in X.iterrows()  # iterate over samples\n",
    "    ])\n"
   ]
  },
  {
   "cell_type": "code",
   "execution_count": 4,
   "id": "b0b1264a-a1eb-4d24-8a71-de91c53b9731",
   "metadata": {},
   "outputs": [],
   "source": [
    "X_train_tmp_np=df_to_np(X_train)\n",
    "X_test_tmp_np=df_to_np(X_test)\n",
    "\n",
    "#y_train_np=df_to_np(y_train)"
   ]
  },
  {
   "cell_type": "code",
   "execution_count": 5,
   "id": "38731a57-1487-487f-8275-2d6367062365",
   "metadata": {},
   "outputs": [],
   "source": [
    "X_train_tmp_np0=X_train_tmp_np#[:,0:2,:]\n",
    "X_test_tmp_np0=X_test_tmp_np#[:,0:2,:]"
   ]
  },
  {
   "cell_type": "code",
   "execution_count": 6,
   "id": "5ceb433a-d186-46bb-b26c-1ea6560a507f",
   "metadata": {},
   "outputs": [],
   "source": [
    "def preprocess_ppg(signal, clip_range=(-100, 100)):\n",
    "    # 1. Clip outliers\n",
    "    clipped = np.clip(signal, clip_range[0], clip_range[1])\n",
    "    \n",
    "    # 2. Normalize: zero mean, unit variance\n",
    "    mean = clipped.mean()\n",
    "    std = clipped.std()\n",
    "    if std == 0:\n",
    "        std = 1  # avoid division by zero\n",
    "    normalized = (clipped - mean) / std\n",
    "    \n",
    "    return normalized"
   ]
  },
  {
   "cell_type": "code",
   "execution_count": 7,
   "id": "eda34897-2b8f-4991-b866-d18a14cfff49",
   "metadata": {},
   "outputs": [],
   "source": [
    "def preprocess_mat(X):\n",
    "    shape=X.shape\n",
    "    plot=False\n",
    "    nu_samples=shape[0]\n",
    "    nu_features=shape[1]\n",
    "    for fea in range(nu_features):\n",
    "        for i in range(nu_samples):\n",
    "            if np.mod(i,1000)==0:\n",
    "                print(i)\n",
    "            preprocessed=preprocess_ppg(X[i,fea,:])\n",
    "            X[i,fea,:]=preprocessed\n",
    "            if plot==True:\n",
    "                fig, axes = plt.subplots(2, 1, figsize=(8, 6))  # 2 rows, 1 column\n",
    "                axes[0].plot(preprocessed)   \n",
    "                axes[1].plot(X_train_tmp_np[i,0,:])\n",
    "                plt.show()\n",
    "                input('a')\n",
    "    return X\n",
    "    "
   ]
  },
  {
   "cell_type": "code",
   "execution_count": 8,
   "id": "ad30b4c5-03cc-4830-bed1-e8d70adf8da8",
   "metadata": {},
   "outputs": [
    {
     "name": "stdout",
     "output_type": "stream",
     "text": [
      "0\n",
      "1000\n",
      "0\n",
      "1000\n",
      "0\n",
      "1000\n",
      "0\n",
      "1000\n",
      "0\n",
      "1000\n",
      "0\n",
      "1000\n",
      "0\n",
      "1000\n",
      "0\n",
      "1000\n",
      "0\n",
      "1000\n",
      "0\n",
      "1000\n"
     ]
    }
   ],
   "source": [
    "X_train_tmp_np=preprocess_mat(X_train_tmp_np0)\n",
    "X_test_tmp_np=preprocess_mat(X_test_tmp_np0)"
   ]
  },
  {
   "cell_type": "code",
   "execution_count": 9,
   "id": "25a0b052-8cdf-4b9c-b03a-01ce0bb62a95",
   "metadata": {},
   "outputs": [
    {
     "name": "stdout",
     "output_type": "stream",
     "text": [
      "[-0.79854698 -0.7104687  -0.76918755 -0.73982813 -0.79854698 -0.68110928\n",
      " -0.7104687  -0.76918755 -0.68110928 -0.76918755]\n"
     ]
    }
   ],
   "source": [
    "#print(X_train_np.shape)\n",
    "#print(\"X np start\", X_train_np[0,0,:5])\n",
    "def make_batches(X_np):\n",
    "    shape=X_np.shape\n",
    "    nu_time_steps=shape[2]\n",
    "    nu_features=shape[1]\n",
    "    nu_samples=shape[0]\n",
    "    batch_size=1000\n",
    "    assert np.mod(nu_time_steps*nu_samples,batch_size)==0\n",
    "    nu_batches=int(nu_time_steps*nu_samples/batch_size)\n",
    "    X_np_new=X_np.reshape(nu_batches,nu_features,batch_size)\n",
    "    return X_np_new\n",
    "\n",
    "X_train_np=make_batches(X_train_tmp_np)\n",
    "X_test_np=make_batches(X_test_tmp_np)\n",
    "\n",
    "#print(X_np_new.shape)\n",
    "#print(\"X np new start\", X_np_new[0,0,:5])\n",
    "print(X_train_np[1,0,:10])\n",
    "#print(X_np_new[10,0,:5])\n"
   ]
  },
  {
   "cell_type": "code",
   "execution_count": 10,
   "id": "a9e001df-2102-42ff-8f60-a655cb120ac5",
   "metadata": {},
   "outputs": [],
   "source": [
    "def make_batch_target(y):\n",
    "    y_out=[]\n",
    "    for item in y:\n",
    "        for i in range(1):\n",
    "            y_out.append(item)\n",
    "    return np.array(y_out,'float')\n",
    "    \n",
    "y_train_np=make_batch_target(y_train)\n",
    "y_test_np=make_batch_target(y_test)"
   ]
  },
  {
   "cell_type": "code",
   "execution_count": 11,
   "id": "af8d3919-b9fa-4957-9200-35999b39d747",
   "metadata": {},
   "outputs": [
    {
     "name": "stdout",
     "output_type": "stream",
     "text": [
      "(1768, 5, 1000)\n",
      "(1768,)\n",
      "(1328, 5, 1000)\n",
      "(1328,)\n"
     ]
    }
   ],
   "source": [
    "print(X_train_np.shape)\n",
    "print(y_train_np.shape)\n",
    "print(X_test_np.shape)\n",
    "print(y_test_np.shape)"
   ]
  },
  {
   "cell_type": "code",
   "execution_count": 12,
   "id": "133cc100-bc42-484f-b6cb-8886227622e8",
   "metadata": {},
   "outputs": [],
   "source": [
    "# Train/test split\n",
    "#n_samples = 1000\n",
    "\n",
    "#split = int(0.8 * n_samples)\n",
    "#X_train, X_test = X[:split], X[split:n_samples]\n",
    "#y_train, y_test = y[:split], y[split:n_samples]\n",
    "# Convert X_train DataFrame to a NumPy array\n",
    "#X_train_np = np.array([row.values for _, row in X_train.iterrows()])\n",
    "#y_train_np = np.array(y_train)\n",
    "\n",
    "# Convert to PyTorch tensors\n",
    "X_train_tensor = torch.tensor(X_train_np, dtype=torch.float32)\n",
    "y_train_tensor = torch.tensor(y_train_np, dtype=torch.float32).unsqueeze(1)\n",
    "X_test_tensor = torch.tensor(X_test_np, dtype=torch.float32)\n",
    "y_test_tensor = torch.tensor(y_test_np, dtype=torch.float32).unsqueeze(1)\n",
    "\n",
    "train_loader = DataLoader(TensorDataset(X_train_tensor, y_train_tensor), batch_size=32, shuffle=True)\n",
    "test_loader = DataLoader(TensorDataset(X_test_tensor, y_test_tensor), batch_size=32)\n"
   ]
  },
  {
   "cell_type": "code",
   "execution_count": 13,
   "id": "664d07ef-4519-403e-a4c9-37c47487053b",
   "metadata": {},
   "outputs": [],
   "source": [
    "def torch_plotter(output_tensor):\n",
    "    channel_to_plot = output_tensor[0, 0, :].detach().numpy()  # Detach from the graph to avoid tracking gradients\n",
    "    \n",
    "    # Plotting the first channel's output over time steps\n",
    "    plt.plot(channel_to_plot)\n",
    "    plt.title(\"Output of Conv1D - First Channel\")\n",
    "    plt.xlabel(\"Time Steps\")\n",
    "    plt.ylabel(\"Value\")\n",
    "    plt.show()"
   ]
  },
  {
   "cell_type": "code",
   "execution_count": 14,
   "id": "3547f2b3-f95e-439e-8884-6a1737abbf7d",
   "metadata": {},
   "outputs": [
    {
     "data": {
      "image/png": "[encoded data removed]",
      "text/plain": [
       "<Figure size 640x480 with 1 Axes>"
      ]
     },
     "metadata": {},
     "output_type": "display_data"
    }
   ],
   "source": [
    "torch_plotter(X_train_tensor)"
   ]
  },
  {
   "cell_type": "code",
   "execution_count": 15,
   "id": "bb4afe55-c55d-4dde-ad2f-10f758baeb87",
   "metadata": {},
   "outputs": [],
   "source": [
    "\n",
    "# 2. Define CNN model\n",
    "class PPGCNN(nn.Module):\n",
    "    def __init__(self):\n",
    "        super(PPGCNN, self).__init__()\n",
    "        self.conv1 = nn.Conv1d(in_channels=5, out_channels=30, kernel_size=100, padding=5)\n",
    "        self.relu = nn.ReLU()\n",
    "        self.pool = nn.AdaptiveAvgPool1d(1)\n",
    "        self.fc = nn.Linear(30, 1)\n",
    "\n",
    "    def forward(self, x):\n",
    "        x = self.relu(self.conv1(x))      # [B, 16, 100]\n",
    "        x = self.pool(x)                  # [B, 16, 1]\n",
    "        x = x.view(x.size(0), -1)         # [B, 16]\n",
    "        x = self.fc(x)                    # [B, 1]\n",
    "        return x\n",
    "\n"
   ]
  },
  {
   "cell_type": "code",
   "execution_count": 16,
   "id": "385c63d6-2633-44ad-9241-14a8b933d259",
   "metadata": {},
   "outputs": [],
   "source": [
    "class PPGTransformer(nn.Module):\n",
    "    def __init__(self, seq_len=1000, n_channels=5, d_model=64, nhead=4, num_layers=2):\n",
    "        super(PPGTransformer, self).__init__()\n",
    "        \n",
    "        self.input_proj = nn.Linear(n_channels, d_model)  # [B, 100, 3] -> [B, 100, 64]\n",
    "        encoder_layer = nn.TransformerEncoderLayer(d_model=d_model, nhead=nhead, batch_first=True)\n",
    "        self.transformer = nn.TransformerEncoder(encoder_layer, num_layers=num_layers)\n",
    "        \n",
    "        self.pool = nn.AdaptiveAvgPool1d(1)\n",
    "        self.regressor = nn.Linear(d_model, 1)\n",
    "\n",
    "    def forward(self, x):\n",
    "        # x: [B, C, T] --> permute to [B, T, C] for transformer\n",
    "        x = x.permute(0, 2, 1)  # [B, 100, 3]\n",
    "        x = self.input_proj(x)  # [B, 100, 64]\n",
    "        x = self.transformer(x)  # [B, 100, 64]\n",
    "        x = x.mean(dim=1)        # Global average pooling over sequence: [B, 64]\n",
    "        x = self.regressor(x)    # [B, 1]\n",
    "        return x"
   ]
  },
  {
   "cell_type": "code",
   "execution_count": null,
   "id": "4f54c952-bd8f-4989-8e4b-25d9607ecb8a",
   "metadata": {},
   "outputs": [
    {
     "name": "stdout",
     "output_type": "stream",
     "text": [
      "Epoch 1/20, Loss: 1002394.85\n",
      "Epoch 2/20, Loss: 965515.68\n",
      "Epoch 3/20, Loss: 926795.10\n",
      "Epoch 4/20, Loss: 881738.81\n",
      "Epoch 5/20, Loss: 837281.11\n",
      "Epoch 6/20, Loss: 785262.53\n",
      "Epoch 7/20, Loss: 729069.91\n",
      "Epoch 8/20, Loss: 677311.20\n",
      "Epoch 9/20, Loss: 623743.47\n",
      "Epoch 10/20, Loss: 566394.42\n",
      "Epoch 11/20, Loss: 511283.29\n",
      "Epoch 12/20, Loss: 460506.59\n",
      "Epoch 13/20, Loss: 407637.90\n",
      "Epoch 14/20, Loss: 359298.81\n",
      "Epoch 15/20, Loss: 315038.55\n",
      "Epoch 16/20, Loss: 270899.50\n",
      "Epoch 17/20, Loss: 232929.85\n",
      "Epoch 18/20, Loss: 198709.91\n",
      "Epoch 19/20, Loss: 169907.47\n",
      "Epoch 20/20, Loss: 141932.63\n"
     ]
    }
   ],
   "source": [
    "# 3. Train the model\n",
    "#model = PPGCNN()\n",
    "model = PPGTransformer()\n",
    "\n",
    "criterion = nn.MSELoss()\n",
    "optimizer = optim.Adam(model.parameters(), lr=0.0005)\n",
    "\n",
    "n_epochs = 20\n",
    "for epoch in range(n_epochs):\n",
    "    model.train()\n",
    "    total_loss = 0\n",
    "    for xb, yb in train_loader:\n",
    "        pred = model(xb)\n",
    "        #print(xb.shape)\n",
    "        #input('a')\n",
    "        loss = criterion(pred, yb)\n",
    "        optimizer.zero_grad()\n",
    "        loss.backward()\n",
    "        optimizer.step()\n",
    "        total_loss += loss.item()\n",
    "    print(f\"Epoch {epoch+1}/{n_epochs}, Loss: {total_loss:.2f}\")\n",
    "\n",
    "\n",
    "\n"
   ]
  },
  {
   "cell_type": "code",
   "execution_count": null,
   "id": "01957050-2348-4c74-8729-7ac2bbd8473d",
   "metadata": {},
   "outputs": [],
   "source": [
    "# 4. Evaluate\n",
    "\n",
    "# Evaluate in batches\n",
    "model.eval()\n",
    "preds = []\n",
    "targets = []\n",
    "\n",
    "#with torch.no_grad():\n",
    "#    preds = model(X_test_tensor).squeeze().numpy()\n",
    "#    targets = y_test_tensor.squeeze().numpy()\n",
    "#    mae = np.mean(np.abs(preds - targets))\n",
    "#    print(f\"\\nTest MAE: {mae:.2f} bpm\")\n",
    "\n",
    "with torch.no_grad():\n",
    "    for xb, yb in test_loader:\n",
    "        pred = model(xb).squeeze().numpy()\n",
    "        preds.append(pred)\n",
    "        targets.append(yb.squeeze().numpy())\n",
    "\n",
    "# Concatenate predictions and targets\n",
    "preds = np.concatenate(preds)\n",
    "targets = np.concatenate(targets)\n",
    "mae = np.mean(np.abs(preds - targets))\n",
    "print(f\"\\nTest MAE: {mae:.2f} bpm\")"
   ]
  },
  {
   "cell_type": "code",
   "execution_count": 1,
   "id": "d2c8ad45-eccd-4630-96d6-372238825f97",
   "metadata": {},
   "outputs": [
    {
     "ename": "NameError",
     "evalue": "name 'plt' is not defined",
     "output_type": "error",
     "traceback": [
      "\u001b[31m---------------------------------------------------------------------------\u001b[39m",
      "\u001b[31mNameError\u001b[39m                                 Traceback (most recent call last)",
      "\u001b[36mCell\u001b[39m\u001b[36m \u001b[39m\u001b[32mIn[1]\u001b[39m\u001b[32m, line 2\u001b[39m\n\u001b[32m      1\u001b[39m \u001b[38;5;66;03m# 5. Plot predictions\u001b[39;00m\n\u001b[32m----> \u001b[39m\u001b[32m2\u001b[39m \u001b[43mplt\u001b[49m.figure(figsize=(\u001b[32m10\u001b[39m, \u001b[32m4\u001b[39m))\n\u001b[32m      3\u001b[39m plt.plot(targets, label=\u001b[33m\"\u001b[39m\u001b[33mTrue HR\u001b[39m\u001b[33m\"\u001b[39m)\n\u001b[32m      4\u001b[39m plt.plot(preds, label=\u001b[33m\"\u001b[39m\u001b[33mPredicted HR\u001b[39m\u001b[33m\"\u001b[39m, linestyle=\u001b[33m'\u001b[39m\u001b[33m--\u001b[39m\u001b[33m'\u001b[39m)\n",
      "\u001b[31mNameError\u001b[39m: name 'plt' is not defined"
     ]
    }
   ],
   "source": [
    "# 5. Plot predictions\n",
    "plt.figure(figsize=(10, 4))\n",
    "plt.plot(targets, label=\"True HR\")\n",
    "plt.plot(preds, label=\"Predicted HR\", linestyle='--')\n",
    "plt.title(\"Heart Rate Prediction from Multi-Wavelength PPG (CNN)\")\n",
    "plt.xlabel(\"Sample Index\")\n",
    "plt.ylabel(\"Heart Rate (bpm)\")\n",
    "plt.legend()\n",
    "plt.tight_layout()\n",
    "plt.show()\n",
    "plt.clf()  # Clear the figure to avoid any interference with the next plot\n",
    "plt.figure(figsize=(10, 4))\n",
    "\n",
    "# 6. Plot PPG data\n",
    "for i in range(100):\n",
    "    if np.max(np.abs(X_train_np[i,0,:]))>200:\n",
    "        plt.plot(X_train_np[i,0,:], label=\"PPG Signal\")  # Assuming X is your input PPG data\n",
    "        plt.title(\"PPG Signal for Sample 0\")\n",
    "        plt.xlabel(\"Sample Index\")\n",
    "        plt.ylabel(\"PPG Amplitude\")\n",
    "        plt.legend()\n",
    "        plt.tight_layout()\n",
    "        plt.show()  # Display the second plot\n",
    "        print(i)\n",
    "        input('a')"
   ]
  },
  {
   "cell_type": "code",
   "execution_count": null,
   "id": "936eca9a-c798-462c-bdd3-aa7fdff16a70",
   "metadata": {},
   "outputs": [],
   "source": []
  }
 ],
 "metadata": {
  "kernelspec": {
   "display_name": "Python 3 (ipykernel)",
   "language": "python",
   "name": "python3"
  },
  "language_info": {
   "codemirror_mode": {
    "name": "ipython",
    "version": 3
   },
   "file_extension": ".py",
   "mimetype": "text/x-python",
   "name": "python",
   "nbconvert_exporter": "python",
   "pygments_lexer": "ipython3",
   "version": "3.11.0"
  }
 },
 "nbformat": 4,
 "nbformat_minor": 5
}
